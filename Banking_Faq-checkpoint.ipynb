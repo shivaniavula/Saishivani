{
 "cells": [
  {
   "cell_type": "markdown",
   "id": "820c6dbb",
   "metadata": {},
   "source": [
    "### import necessary libararys"
   ]
  },
  {
   "cell_type": "code",
   "execution_count": 1,
   "id": "3309be0f",
   "metadata": {},
   "outputs": [],
   "source": [
    "import pandas as pd\n",
    "import numpy as np"
   ]
  },
  {
   "cell_type": "markdown",
   "id": "e95f91f8",
   "metadata": {},
   "source": [
    "### Data Loading"
   ]
  },
  {
   "cell_type": "code",
   "execution_count": 2,
   "id": "14b21c7d",
   "metadata": {},
   "outputs": [],
   "source": [
    "df=pd.read_csv(\"BankFAQs.csv\")"
   ]
  },
  {
   "cell_type": "markdown",
   "id": "5a4944cc",
   "metadata": {},
   "source": [
    "### Printing First Five Rows of Data"
   ]
  },
  {
   "cell_type": "code",
   "execution_count": 3,
   "id": "e7116a28",
   "metadata": {},
   "outputs": [
    {
     "data": {
      "text/html": [
       "<div>\n",
       "<style scoped>\n",
       "    .dataframe tbody tr th:only-of-type {\n",
       "        vertical-align: middle;\n",
       "    }\n",
       "\n",
       "    .dataframe tbody tr th {\n",
       "        vertical-align: top;\n",
       "    }\n",
       "\n",
       "    .dataframe thead th {\n",
       "        text-align: right;\n",
       "    }\n",
       "</style>\n",
       "<table border=\"1\" class=\"dataframe\">\n",
       "  <thead>\n",
       "    <tr style=\"text-align: right;\">\n",
       "      <th></th>\n",
       "      <th>Question</th>\n",
       "      <th>Answer</th>\n",
       "      <th>Class</th>\n",
       "    </tr>\n",
       "  </thead>\n",
       "  <tbody>\n",
       "    <tr>\n",
       "      <th>0</th>\n",
       "      <td>Do I need to enter ‘#’ after keying in my Card...</td>\n",
       "      <td>Please listen to the recorded message and foll...</td>\n",
       "      <td>security</td>\n",
       "    </tr>\n",
       "    <tr>\n",
       "      <th>1</th>\n",
       "      <td>What details are required when I want to perfo...</td>\n",
       "      <td>To perform a secure IVR transaction, you will ...</td>\n",
       "      <td>security</td>\n",
       "    </tr>\n",
       "    <tr>\n",
       "      <th>2</th>\n",
       "      <td>How should I get the IVR Password  if I hold a...</td>\n",
       "      <td>An IVR password can be requested only from the...</td>\n",
       "      <td>security</td>\n",
       "    </tr>\n",
       "    <tr>\n",
       "      <th>3</th>\n",
       "      <td>How do I register my Mobile number for IVR Pas...</td>\n",
       "      <td>Please call our Customer Service Centre and en...</td>\n",
       "      <td>security</td>\n",
       "    </tr>\n",
       "    <tr>\n",
       "      <th>4</th>\n",
       "      <td>How can I obtain an IVR Password</td>\n",
       "      <td>By Sending SMS request: Send an SMS 'PWD&lt;space...</td>\n",
       "      <td>security</td>\n",
       "    </tr>\n",
       "  </tbody>\n",
       "</table>\n",
       "</div>"
      ],
      "text/plain": [
       "                                            Question  \\\n",
       "0  Do I need to enter ‘#’ after keying in my Card...   \n",
       "1  What details are required when I want to perfo...   \n",
       "2  How should I get the IVR Password  if I hold a...   \n",
       "3  How do I register my Mobile number for IVR Pas...   \n",
       "4                  How can I obtain an IVR Password    \n",
       "\n",
       "                                              Answer     Class  \n",
       "0  Please listen to the recorded message and foll...  security  \n",
       "1  To perform a secure IVR transaction, you will ...  security  \n",
       "2  An IVR password can be requested only from the...  security  \n",
       "3  Please call our Customer Service Centre and en...  security  \n",
       "4  By Sending SMS request: Send an SMS 'PWD<space...  security  "
      ]
     },
     "execution_count": 3,
     "metadata": {},
     "output_type": "execute_result"
    }
   ],
   "source": [
    "df.head()"
   ]
  },
  {
   "cell_type": "markdown",
   "id": "87e74e34",
   "metadata": {},
   "source": [
    "### Data Information"
   ]
  },
  {
   "cell_type": "code",
   "execution_count": 4,
   "id": "5854653b",
   "metadata": {},
   "outputs": [
    {
     "name": "stdout",
     "output_type": "stream",
     "text": [
      "<class 'pandas.core.frame.DataFrame'>\n",
      "RangeIndex: 1764 entries, 0 to 1763\n",
      "Data columns (total 3 columns):\n",
      " #   Column    Non-Null Count  Dtype \n",
      "---  ------    --------------  ----- \n",
      " 0   Question  1764 non-null   object\n",
      " 1   Answer    1764 non-null   object\n",
      " 2   Class     1764 non-null   object\n",
      "dtypes: object(3)\n",
      "memory usage: 41.5+ KB\n"
     ]
    }
   ],
   "source": [
    "df.info()"
   ]
  },
  {
   "cell_type": "markdown",
   "id": "2c55d827",
   "metadata": {},
   "source": [
    "### Basic Stats About Data"
   ]
  },
  {
   "cell_type": "code",
   "execution_count": 5,
   "id": "60702dc2",
   "metadata": {},
   "outputs": [
    {
     "data": {
      "text/html": [
       "<div>\n",
       "<style scoped>\n",
       "    .dataframe tbody tr th:only-of-type {\n",
       "        vertical-align: middle;\n",
       "    }\n",
       "\n",
       "    .dataframe tbody tr th {\n",
       "        vertical-align: top;\n",
       "    }\n",
       "\n",
       "    .dataframe thead th {\n",
       "        text-align: right;\n",
       "    }\n",
       "</style>\n",
       "<table border=\"1\" class=\"dataframe\">\n",
       "  <thead>\n",
       "    <tr style=\"text-align: right;\">\n",
       "      <th></th>\n",
       "      <th>count</th>\n",
       "      <th>unique</th>\n",
       "      <th>top</th>\n",
       "      <th>freq</th>\n",
       "    </tr>\n",
       "  </thead>\n",
       "  <tbody>\n",
       "    <tr>\n",
       "      <th>Question</th>\n",
       "      <td>1764</td>\n",
       "      <td>1334</td>\n",
       "      <td>How can I change the mode of repayment/ accoun...</td>\n",
       "      <td>18</td>\n",
       "    </tr>\n",
       "    <tr>\n",
       "      <th>Answer</th>\n",
       "      <td>1764</td>\n",
       "      <td>1440</td>\n",
       "      <td>Post Dated Cheques(PDCs)/Security Cheques subm...</td>\n",
       "      <td>17</td>\n",
       "    </tr>\n",
       "    <tr>\n",
       "      <th>Class</th>\n",
       "      <td>1764</td>\n",
       "      <td>7</td>\n",
       "      <td>insurance</td>\n",
       "      <td>469</td>\n",
       "    </tr>\n",
       "  </tbody>\n",
       "</table>\n",
       "</div>"
      ],
      "text/plain": [
       "         count unique                                                top freq\n",
       "Question  1764   1334  How can I change the mode of repayment/ accoun...   18\n",
       "Answer    1764   1440  Post Dated Cheques(PDCs)/Security Cheques subm...   17\n",
       "Class     1764      7                                          insurance  469"
      ]
     },
     "execution_count": 5,
     "metadata": {},
     "output_type": "execute_result"
    }
   ],
   "source": [
    "df.describe().T"
   ]
  },
  {
   "cell_type": "markdown",
   "id": "48365da7",
   "metadata": {},
   "source": [
    "### Data count of Each class"
   ]
  },
  {
   "cell_type": "code",
   "execution_count": 6,
   "id": "5efe3ac8",
   "metadata": {},
   "outputs": [
    {
     "data": {
      "text/plain": [
       "insurance        469\n",
       "cards            403\n",
       "loans            375\n",
       "accounts         306\n",
       "investments      140\n",
       "security          57\n",
       "fundstransfer     14\n",
       "Name: Class, dtype: int64"
      ]
     },
     "execution_count": 6,
     "metadata": {},
     "output_type": "execute_result"
    }
   ],
   "source": [
    "df['Class'].value_counts()"
   ]
  },
  {
   "cell_type": "code",
   "execution_count": 7,
   "id": "6c563c9a",
   "metadata": {},
   "outputs": [],
   "source": [
    "from sklearn.feature_extraction.text import CountVectorizer\n",
    "vectorizer = CountVectorizer()"
   ]
  },
  {
   "cell_type": "code",
   "execution_count": 8,
   "id": "c14f41f0",
   "metadata": {},
   "outputs": [],
   "source": [
    "from sklearn.model_selection import train_test_split\n",
    "from sklearn.metrics import accuracy_score, classification_report, confusion_matrix"
   ]
  },
  {
   "cell_type": "markdown",
   "id": "8fe657cb",
   "metadata": {},
   "source": [
    "### Splitting Data into Train and Test"
   ]
  },
  {
   "cell_type": "code",
   "execution_count": 10,
   "id": "b1dfe6f6",
   "metadata": {},
   "outputs": [],
   "source": [
    "train_data, test_data = train_test_split(df, test_size=0.2, random_state=42)"
   ]
  },
  {
   "cell_type": "markdown",
   "id": "81a64654",
   "metadata": {},
   "source": [
    "### Applying Word embedding Techniques on Features"
   ]
  },
  {
   "cell_type": "code",
   "execution_count": 11,
   "id": "0cba0d85",
   "metadata": {},
   "outputs": [],
   "source": [
    "# Transform the text data into feature vectors\n",
    "X_train = vectorizer.fit_transform(train_data['Question'])\n",
    "X_test = vectorizer.transform(test_data['Question'])"
   ]
  },
  {
   "cell_type": "markdown",
   "id": "65c5211f",
   "metadata": {},
   "source": [
    "### Target"
   ]
  },
  {
   "cell_type": "code",
   "execution_count": 12,
   "id": "9de6ac6a",
   "metadata": {},
   "outputs": [],
   "source": [
    "# Define the labels\n",
    "y_train = train_data['Class']\n",
    "y_test = test_data['Class']"
   ]
  },
  {
   "cell_type": "markdown",
   "id": "64bacf85",
   "metadata": {},
   "source": [
    "### Applying SVC Model"
   ]
  },
  {
   "cell_type": "code",
   "execution_count": 13,
   "id": "a9510d9e",
   "metadata": {},
   "outputs": [],
   "source": [
    "from sklearn.svm import SVC"
   ]
  },
  {
   "cell_type": "code",
   "execution_count": 14,
   "id": "7c8c8cd4",
   "metadata": {},
   "outputs": [
    {
     "data": {
      "text/plain": [
       "SVC(C=10, gamma=0.1)"
      ]
     },
     "execution_count": 14,
     "metadata": {},
     "output_type": "execute_result"
    }
   ],
   "source": [
    "# Train the SVM model\n",
    "svm_model = SVC(C=10, kernel='rbf', gamma=0.1, decision_function_shape='ovr')\n",
    "svm_model.fit(X_train, y_train)"
   ]
  },
  {
   "cell_type": "code",
   "execution_count": 19,
   "id": "0258b864",
   "metadata": {},
   "outputs": [],
   "source": [
    "# Make predictions on the test set\n",
    "svm_predictions = svm_model.predict(X_test)"
   ]
  },
  {
   "cell_type": "code",
   "execution_count": 20,
   "id": "a38852e8",
   "metadata": {},
   "outputs": [],
   "source": [
    "svm_accuracy = accuracy_score(y_test, svm_predictions)"
   ]
  },
  {
   "cell_type": "code",
   "execution_count": 21,
   "id": "2a388b9d",
   "metadata": {},
   "outputs": [
    {
     "name": "stdout",
     "output_type": "stream",
     "text": [
      "SVM accuracy: 0.9206798866855525\n"
     ]
    }
   ],
   "source": [
    "print(\"SVM accuracy:\", svm_accuracy)"
   ]
  },
  {
   "cell_type": "code",
   "execution_count": 22,
   "id": "7d259cd2",
   "metadata": {},
   "outputs": [
    {
     "name": "stdout",
     "output_type": "stream",
     "text": [
      "SVM classification report:\n",
      "               precision    recall  f1-score   support\n",
      "\n",
      "     accounts       0.87      0.95      0.91        57\n",
      "        cards       0.92      0.97      0.94        88\n",
      "fundstransfer       1.00      0.17      0.29         6\n",
      "    insurance       0.93      0.98      0.95        86\n",
      "  investments       0.88      0.78      0.82        27\n",
      "        loans       0.95      0.93      0.94        81\n",
      "     security       1.00      0.62      0.77         8\n",
      "\n",
      "     accuracy                           0.92       353\n",
      "    macro avg       0.94      0.77      0.80       353\n",
      " weighted avg       0.92      0.92      0.91       353\n",
      "\n"
     ]
    }
   ],
   "source": [
    "print(\"SVM classification report:\")\n",
    "print(classification_report(y_test, svm_predictions))\n"
   ]
  },
  {
   "cell_type": "code",
   "execution_count": 23,
   "id": "03d031bf",
   "metadata": {},
   "outputs": [
    {
     "name": "stdout",
     "output_type": "stream",
     "text": [
      "SVM confusion matrix:\n",
      "[[54  0  0  3  0  0  0]\n",
      " [ 0 85  0  1  0  2  0]\n",
      " [ 1  1  1  1  1  1  0]\n",
      " [ 0  0  0 84  1  1  0]\n",
      " [ 5  1  0  0 21  0  0]\n",
      " [ 2  2  0  1  1 75  0]\n",
      " [ 0  3  0  0  0  0  5]]\n"
     ]
    }
   ],
   "source": [
    "print(\"SVM confusion matrix:\")\n",
    "print(confusion_matrix(y_test, svm_predictions))"
   ]
  },
  {
   "cell_type": "markdown",
   "id": "9a637b7e",
   "metadata": {},
   "source": [
    "### Applying NavieBayes Algorithm"
   ]
  },
  {
   "cell_type": "code",
   "execution_count": 24,
   "id": "1beb4b00",
   "metadata": {},
   "outputs": [],
   "source": [
    "from sklearn.naive_bayes import MultinomialNB"
   ]
  },
  {
   "cell_type": "code",
   "execution_count": 25,
   "id": "8d4da29d",
   "metadata": {},
   "outputs": [
    {
     "data": {
      "text/plain": [
       "MultinomialNB(alpha=1)"
      ]
     },
     "execution_count": 25,
     "metadata": {},
     "output_type": "execute_result"
    }
   ],
   "source": [
    "# Train the Naive Bayes model\n",
    "nb_model = MultinomialNB(alpha=1)\n",
    "nb_model.fit(X_train, y_train)"
   ]
  },
  {
   "cell_type": "code",
   "execution_count": 26,
   "id": "b54c1562",
   "metadata": {},
   "outputs": [],
   "source": [
    "nb_predictions = nb_model.predict(X_test)"
   ]
  },
  {
   "cell_type": "code",
   "execution_count": 27,
   "id": "3118e50c",
   "metadata": {},
   "outputs": [],
   "source": [
    "nb_accuracy = accuracy_score(y_test, nb_predictions)"
   ]
  },
  {
   "cell_type": "code",
   "execution_count": 28,
   "id": "d2762498",
   "metadata": {},
   "outputs": [
    {
     "name": "stdout",
     "output_type": "stream",
     "text": [
      "Naive Bayes accuracy: 0.8753541076487252\n"
     ]
    }
   ],
   "source": [
    "print(\"Naive Bayes accuracy:\", nb_accuracy)"
   ]
  },
  {
   "cell_type": "code",
   "execution_count": 29,
   "id": "9391ad59",
   "metadata": {},
   "outputs": [
    {
     "name": "stdout",
     "output_type": "stream",
     "text": [
      "Naive Bayes classification report:\n",
      "               precision    recall  f1-score   support\n",
      "\n",
      "     accounts       0.91      0.89      0.90        57\n",
      "        cards       0.89      0.98      0.93        88\n",
      "fundstransfer       0.00      0.00      0.00         6\n",
      "    insurance       0.87      0.87      0.87        86\n",
      "  investments       0.86      0.70      0.78        27\n",
      "        loans       0.85      0.93      0.89        81\n",
      "     security       0.75      0.38      0.50         8\n",
      "\n",
      "     accuracy                           0.88       353\n",
      "    macro avg       0.73      0.68      0.70       353\n",
      " weighted avg       0.86      0.88      0.86       353\n",
      "\n"
     ]
    },
    {
     "name": "stderr",
     "output_type": "stream",
     "text": [
      "C:\\Users\\User\\Anaconda3\\lib\\site-packages\\sklearn\\metrics\\_classification.py:1318: UndefinedMetricWarning: Precision and F-score are ill-defined and being set to 0.0 in labels with no predicted samples. Use `zero_division` parameter to control this behavior.\n",
      "  _warn_prf(average, modifier, msg_start, len(result))\n",
      "C:\\Users\\User\\Anaconda3\\lib\\site-packages\\sklearn\\metrics\\_classification.py:1318: UndefinedMetricWarning: Precision and F-score are ill-defined and being set to 0.0 in labels with no predicted samples. Use `zero_division` parameter to control this behavior.\n",
      "  _warn_prf(average, modifier, msg_start, len(result))\n",
      "C:\\Users\\User\\Anaconda3\\lib\\site-packages\\sklearn\\metrics\\_classification.py:1318: UndefinedMetricWarning: Precision and F-score are ill-defined and being set to 0.0 in labels with no predicted samples. Use `zero_division` parameter to control this behavior.\n",
      "  _warn_prf(average, modifier, msg_start, len(result))\n"
     ]
    }
   ],
   "source": [
    "# Print the classification report and confusion matrix for Naive Bayes model\n",
    "print(\"Naive Bayes classification report:\")\n",
    "print(classification_report(y_test, nb_predictions))"
   ]
  },
  {
   "cell_type": "code",
   "execution_count": 30,
   "id": "38c72154",
   "metadata": {},
   "outputs": [
    {
     "name": "stdout",
     "output_type": "stream",
     "text": [
      "Naive Bayes confusion matrix:\n",
      "[[51  1  0  2  0  3  0]\n",
      " [ 0 86  0  1  0  0  1]\n",
      " [ 0  0  0  2  2  2  0]\n",
      " [ 2  3  0 75  1  5  0]\n",
      " [ 2  1  0  2 19  3  0]\n",
      " [ 1  1  0  4  0 75  0]\n",
      " [ 0  5  0  0  0  0  3]]\n"
     ]
    }
   ],
   "source": [
    "print(\"Naive Bayes confusion matrix:\")\n",
    "print(confusion_matrix(y_test, nb_predictions))"
   ]
  },
  {
   "cell_type": "markdown",
   "id": "5e921987",
   "metadata": {},
   "source": [
    "# predictions"
   ]
  },
  {
   "cell_type": "code",
   "execution_count": 32,
   "id": "6c773299",
   "metadata": {},
   "outputs": [
    {
     "name": "stdout",
     "output_type": "stream",
     "text": [
      "Predicted class: cards\n",
      "Predicted answer: ForexPlus card is available over the counter at HDFC Bank branches. You simply need to walk into our branch with required documentation and walk out with ForexPlus card. The card will get activated within 4 hours from realization of funds. Alternatively, the customer can apply for card through NetBanking login also.In case the customer applies the card through NetBanking the card will be delivered to the customer within 2 working days. This facility is available at select locations only.\n"
     ]
    }
   ],
   "source": [
    "from sklearn.metrics.pairwise import cosine_similarity\n",
    "input_question = \"Where do I get this card\"\n",
    "input_vector = vectorizer.transform([input_question])\n",
    "predicted_class = svm_model.predict(input_vector)[0]\n",
    "class_data = df[df['Class'] == predicted_class]\n",
    "class_vectors = vectorizer.transform(class_data['Question'])\n",
    "similarities = cosine_similarity(input_vector, class_vectors)\n",
    "most_similar_index = similarities.argmax()\n",
    "predicted_answer = class_data.iloc[most_similar_index]['Answer']\n",
    "\n",
    "# Print the predicted class and answer\n",
    "print(\"Predicted class:\", predicted_class)\n",
    "print(\"Predicted answer:\", predicted_answer)"
   ]
  },
  {
   "cell_type": "code",
   "execution_count": null,
   "id": "4464b903",
   "metadata": {},
   "outputs": [],
   "source": []
  }
 ],
 "metadata": {
  "kernelspec": {
   "display_name": "Python 3 (ipykernel)",
   "language": "python",
   "name": "python3"
  },
  "language_info": {
   "codemirror_mode": {
    "name": "ipython",
    "version": 3
   },
   "file_extension": ".py",
   "mimetype": "text/x-python",
   "name": "python",
   "nbconvert_exporter": "python",
   "pygments_lexer": "ipython3",
   "version": "3.9.16"
  }
 },
 "nbformat": 4,
 "nbformat_minor": 5
}
